{
  "nbformat": 4,
  "nbformat_minor": 0,
  "metadata": {
    "colab": {
      "name": "1 Hello Linear Regression.ipynb",
      "version": "0.3.2",
      "provenance": [],
      "collapsed_sections": [],
      "include_colab_link": true
    },
    "kernelspec": {
      "name": "python3",
      "display_name": "Python 3"
    }
  },
  "cells": [
    {
      "cell_type": "markdown",
      "metadata": {
        "id": "view-in-github",
        "colab_type": "text"
      },
      "source": [
        "[View in Colaboratory](https://colab.research.google.com/github/AlanCramer/Intro-to-Machine-Learning/blob/master/1_Hello_Linear_Regression.ipynb)"
      ]
    },
    {
      "metadata": {
        "id": "lKW_Z-L97ew5",
        "colab_type": "text"
      },
      "cell_type": "markdown",
      "source": [
        "#Use SciKit Learn's Linear Regression Tool\n"
      ]
    },
    {
      "metadata": {
        "id": "asFYjQyN76hH",
        "colab_type": "code",
        "colab": {}
      },
      "cell_type": "code",
      "source": [
        "import sys\n",
        "import numpy as np\n",
        "import matplotlib.pyplot as plt\n",
        "import sklearn"
      ],
      "execution_count": 0,
      "outputs": []
    },
    {
      "metadata": {
        "id": "LjISvgJj7_5n",
        "colab_type": "text"
      },
      "cell_type": "markdown",
      "source": [
        "Game plan:\n",
        "\n",
        "- Create Data along a line.\n",
        "- Add noise to the Data.\n",
        "- Fit a line to the data.\n",
        "- See how close we are after fitting"
      ]
    },
    {
      "metadata": {
        "id": "Y5keFnXK79bd",
        "colab_type": "code",
        "colab": {
          "base_uri": "https://localhost:8080/",
          "height": 347
        },
        "outputId": "cc6921c6-054a-497c-d3e3-528dfebf82d0"
      },
      "cell_type": "code",
      "source": [
        "numPts = 10\n",
        "xdata = np.arange(-numPts/2,numPts/2,1)\n",
        "\n",
        "m = 2\n",
        "b = -3\n",
        "lineFn = lambda x: m*x + b\n",
        "\n",
        "ydata = np.array([lineFn(xi) for xi in xdata])\n",
        "\n",
        "plt.scatter(xdata, ydata)\n",
        "\n",
        "\n",
        "plt.axis('equal')\n",
        "\n",
        "plt.axhline(y=0)\n",
        "plt.axvline(x=0)\n",
        "plt.show()"
      ],
      "execution_count": 50,
      "outputs": [
        {
          "output_type": "display_data",
          "data": {
            "image/png": "[encoded data removed]",
            "text/plain": [
              "<matplotlib.figure.Figure at 0x7f88ff723780>"
            ]
          },
          "metadata": {
            "tags": []
          }
        }
      ]
    },
    {
      "metadata": {
        "id": "DrWDdF6RBJE1",
        "colab_type": "text"
      },
      "cell_type": "markdown",
      "source": [
        "Add Noise to the Data"
      ]
    },
    {
      "metadata": {
        "id": "R22KW9EK-0IW",
        "colab_type": "code",
        "colab": {
          "base_uri": "https://localhost:8080/",
          "height": 347
        },
        "outputId": "7d483659-86f1-41f4-f8f9-491a9ad4852b"
      },
      "cell_type": "code",
      "source": [
        "yrandFn = lambda x: m*x +b + np.random.normal(0, 1)\n",
        "noisyData = np.array([yrandFn(xi) for xi in xdata])\n",
        "plt.scatter(xdata, noisyData)\n",
        "\n",
        "plt.axhline(y=0)\n",
        "plt.axvline(x=0)\n",
        "plt.show()"
      ],
      "execution_count": 51,
      "outputs": [
        {
          "output_type": "display_data",
          "data": {
            "image/png": "[encoded data removed]",
            "text/plain": [
              "<matplotlib.figure.Figure at 0x7f88ff6a69b0>"
            ]
          },
          "metadata": {
            "tags": []
          }
        }
      ]
    },
    {
      "metadata": {
        "id": "eU6txG1cyHce",
        "colab_type": "text"
      },
      "cell_type": "markdown",
      "source": [
        "Note that we are doing 1 dimensional analysis. That is, we are using 1 feature, 'x'. \n",
        "\n",
        "In general, we might have multiple features, e.g., square footage, year built, longitude, and latitude for the label of house price."
      ]
    },
    {
      "metadata": {
        "id": "Ds1sd_ItBMV-",
        "colab_type": "code",
        "colab": {}
      },
      "cell_type": "code",
      "source": [
        "from sklearn import linear_model\n",
        "\n",
        "\n",
        "# Create linear regression object\n",
        "regr = linear_model.LinearRegression()\n",
        "\n",
        "# Train the model using the training sets\n",
        "\n",
        "regr.fit(xdata.reshape(-1, 1), noisyData.reshape(-1,1))\n",
        "\n",
        "\n",
        "ypred = regr.predict(xdata.reshape(-1,1))\n",
        "#print(ypred)"
      ],
      "execution_count": 0,
      "outputs": []
    },
    {
      "metadata": {
        "id": "YQ8Ip-LFDbsF",
        "colab_type": "code",
        "colab": {
          "base_uri": "https://localhost:8080/",
          "height": 417
        },
        "outputId": "039d09b9-292f-4264-af7a-c508f52235fb"
      },
      "cell_type": "code",
      "source": [
        "plt.plot(xdata, ypred, c='r')\n",
        "plt.plot(xdata, ydata, c='g')\n",
        "plt.scatter(xdata, noisyData)\n",
        "\n",
        "plt.axhline(y=0)\n",
        "plt.axvline(x=0)\n",
        "\n",
        "plt.show()\n",
        "\n",
        "print('Coefficients: \\n', regr.coef_)\n",
        "print('Intercept: \\n', regr.intercept_)\n",
        "\n"
      ],
      "execution_count": 53,
      "outputs": [
        {
          "output_type": "display_data",
          "data": {
            "image/png": "[encoded data removed]",
            "text/plain": [
              "<matplotlib.figure.Figure at 0x7f88ff45ed30>"
            ]
          },
          "metadata": {
            "tags": []
          }
        },
        {
          "output_type": "stream",
          "text": [
            "Coefficients: \n",
            " [[1.93147853]]\n",
            "Intercept: \n",
            " [-3.18518166]\n"
          ],
          "name": "stdout"
        }
      ]
    },
    {
      "metadata": {
        "id": "9z3Lr-Zowekg",
        "colab_type": "text"
      },
      "cell_type": "markdown",
      "source": [
        "What is least squares again?\n",
        "\n",
        "Find the line that minimizes the cost (error) function.\n",
        "\n",
        "Error is sum of differences squared.\n",
        "\n",
        "$\n",
        "\\displaystyle\n",
        "\\begin {aligned}\n",
        "E & = (y_0 - f(x_0))^2 + (y_1 - f(x_1)^2 + ... + (y_n-f(x_n))^2 \\\\\n",
        " & = \\sum_{k=1}^n (y_k - f(x_k))^2\n",
        " \\end{aligned}\n",
        "$\n",
        "\n",
        "\n",
        "\n"
      ]
    }
  ]
}