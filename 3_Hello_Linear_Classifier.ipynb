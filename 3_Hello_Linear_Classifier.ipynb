{
  "nbformat": 4,
  "nbformat_minor": 0,
  "metadata": {
    "colab": {
      "name": "3 Hello Linear Classifier.ipynb",
      "version": "0.3.2",
      "provenance": [],
      "collapsed_sections": [],
      "include_colab_link": true
    },
    "kernelspec": {
      "name": "python3",
      "display_name": "Python 3"
    }
  },
  "cells": [
    {
      "cell_type": "markdown",
      "metadata": {
        "id": "view-in-github",
        "colab_type": "text"
      },
      "source": [
        "[View in Colaboratory](https://colab.research.google.com/github/AlanCramer/Intro-to-Machine-Learning/blob/master/3_Hello_Linear_Classifier.ipynb)"
      ]
    },
    {
      "metadata": {
        "id": "ELHWolW5I62q",
        "colab_type": "code",
        "colab": {}
      },
      "cell_type": "code",
      "source": [
        "import numpy as np\n",
        "import math\n",
        "import matplotlib.pyplot as plt\n",
        "\n",
        "from sklearn.neighbors import KNeighborsClassifier"
      ],
      "execution_count": 0,
      "outputs": []
    },
    {
      "metadata": {
        "id": "CIxa-YFeJWfi",
        "colab_type": "text"
      },
      "cell_type": "markdown",
      "source": [
        "Let's make some data. Let's scatter some data around two points in the plane. Then we can try to classify that data.\n",
        "\n",
        "To make the data, let's pick a random theta and random r."
      ]
    },
    {
      "metadata": {
        "id": "4MFDFZIhKk_y",
        "colab_type": "code",
        "colab": {
          "base_uri": "https://localhost:8080/",
          "height": 347
        },
        "outputId": "04f0a561-3888-46a5-a308-b88f64874498"
      },
      "cell_type": "code",
      "source": [
        "answerPt0 = [5, 3]\n",
        "answerPt1 = [7, 7]\n",
        "\n",
        "def noisyPt(pt):\n",
        "  theta = np.random.uniform(0, math.pi)\n",
        "  r = np.random.normal(0, .5)\n",
        "  return [r* math.cos(theta) + pt[0], r* math.sin(theta) + pt[1]]\n",
        "\n",
        "numNoisy = 10\n",
        "noisyBluePts = np.array([noisyPt(answerPt0) for p in np.arange(numNoisy)])\n",
        "#noisyPts\n",
        "noisyBlueX = noisyBluePts[:,0]\n",
        "noisyBlueY = noisyBluePts[:,1]\n",
        "\n",
        "noisyRedPts = np.array([noisyPt(answerPt1) for p in np.arange(numNoisy)])\n",
        "#noisyPts\n",
        "noisyRedX = noisyRedPts[:,0]\n",
        "noisyRedY = noisyRedPts[:,1]\n",
        "\n",
        "\n",
        "plt.scatter(noisyBlueX, noisyBlueY)\n",
        "plt.scatter(noisyRedX, noisyRedY, c='r')\n",
        "\n",
        "plt.axis('equal')\n",
        "#plt.xlim(0,10)\n",
        "#plt.ylim(0,10)\n",
        "\n",
        "plt.show()\n"
      ],
      "execution_count": 33,
      "outputs": [
        {
          "output_type": "display_data",
          "data": {
            "image/png": "[encoded data removed]",
            "text/plain": [
              "<matplotlib.figure.Figure at 0x7f074f767da0>"
            ]
          },
          "metadata": {
            "tags": []
          }
        }
      ]
    },
    {
      "metadata": {
        "id": "rcprK_DHjRsK",
        "colab_type": "code",
        "colab": {
          "base_uri": "https://localhost:8080/",
          "height": 104
        },
        "outputId": "df2d4e1f-0db5-4803-92e2-ee1e338c7396"
      },
      "cell_type": "code",
      "source": [
        "\n",
        "#print(noisyBluePts\n",
        "X = np.concatenate([noisyBluePts, noisyRedPts])\n",
        "#print (X)\n",
        "\n",
        "y = np.concatenate( [np.zeros(numNoisy), np.ones(numNoisy)] )\n",
        "#print(y)\n",
        "clf = KNeighborsClassifier()\n",
        "\n",
        "clf.fit(X, y)\n",
        "\n",
        "print( clf.predict([[5,4]]) )\n",
        "print( clf.predict([[7,6]]) )\n",
        "print( clf.predict([[5,7]]) )\n",
        "print( clf.predict([[5,5]]) )\n",
        "print( clf.predict([[5,6]]) )"
      ],
      "execution_count": 63,
      "outputs": [
        {
          "output_type": "stream",
          "text": [
            "[0.]\n",
            "[1.]\n",
            "[1.]\n",
            "[0.]\n",
            "[1.]\n"
          ],
          "name": "stdout"
        }
      ]
    },
    {
      "metadata": {
        "id": "p_MHKdjJpd95",
        "colab_type": "code",
        "colab": {}
      },
      "cell_type": "code",
      "source": [
        "xx, yy = np.meshgrid(np.arange(0, 10, .1),\n",
        "                     np.arange(0, 10, .1))\n",
        "Z=clf.predict(np.c_[xx.ravel(), yy.ravel()])\n",
        "#print(xx)\n",
        "#print(np.c_[xx.ravel(), yy.ravel()])\n",
        "#print(Z)\n",
        "Z = Z.reshape(xx.shape)\n"
      ],
      "execution_count": 0,
      "outputs": []
    },
    {
      "metadata": {
        "id": "1UPQxqe16xxc",
        "colab_type": "code",
        "colab": {
          "base_uri": "https://localhost:8080/",
          "height": 365
        },
        "outputId": "cc9ddc51-7081-4784-8d57-2370730faf7d"
      },
      "cell_type": "code",
      "source": [
        "from matplotlib.colors import ListedColormap\n",
        "cmap_light = ListedColormap(['#AAAAFF', '#FFAAAA'])\n",
        "plt.pcolormesh(xx, yy, Z, cmap=cmap_light)\n",
        "plt.scatter(noisyBlueX, noisyBlueY)\n",
        "plt.scatter(noisyRedX, noisyRedY, c='r')\n",
        "\n",
        "plt.axis('equal')"
      ],
      "execution_count": 80,
      "outputs": [
        {
          "output_type": "execute_result",
          "data": {
            "text/plain": [
              "(0.0, 9.9, 0.0, 9.9)"
            ]
          },
          "metadata": {
            "tags": []
          },
          "execution_count": 80
        },
        {
          "output_type": "display_data",
          "data": {
            "image/png": "[encoded data removed]",
            "text/plain": [
              "<matplotlib.figure.Figure at 0x7f074fb7f940>"
            ]
          },
          "metadata": {
            "tags": []
          }
        }
      ]
    }
  ]
}