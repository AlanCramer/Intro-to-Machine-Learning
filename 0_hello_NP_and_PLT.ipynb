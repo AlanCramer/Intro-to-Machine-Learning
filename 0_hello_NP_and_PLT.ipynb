{
  "nbformat": 4,
  "nbformat_minor": 0,
  "metadata": {
    "colab": {
      "name": "0 hello NP and PLT.ipynb",
      "version": "0.3.2",
      "provenance": [],
      "collapsed_sections": [],
      "include_colab_link": true
    },
    "kernelspec": {
      "name": "python3",
      "display_name": "Python 3"
    }
  },
  "cells": [
    {
      "cell_type": "markdown",
      "metadata": {
        "id": "view-in-github",
        "colab_type": "text"
      },
      "source": [
        "[View in Colaboratory](https://colab.research.google.com/github/AlanCramer/Intro-to-Machine-Learning/blob/master/0_hello_NP_and_PLT.ipynb)"
      ]
    },
    {
      "metadata": {
        "id": "nwKWm04n2Taa",
        "colab_type": "code",
        "colab": {
          "base_uri": "https://localhost:8080/",
          "height": 52
        },
        "outputId": "96f3a8df-e7f5-4f4e-bbda-2d70486ff80f"
      },
      "cell_type": "code",
      "source": [
        "import sys\n",
        "print (sys.version)"
      ],
      "execution_count": 1,
      "outputs": [
        {
          "output_type": "stream",
          "text": [
            "3.6.3 (default, Oct  3 2017, 21:45:48) \n",
            "[GCC 7.2.0]\n"
          ],
          "name": "stdout"
        }
      ]
    },
    {
      "metadata": {
        "id": "PZVun1_D3MZE",
        "colab_type": "code",
        "colab": {}
      },
      "cell_type": "code",
      "source": [
        "import numpy as np\n",
        "import matplotlib.pyplot as plt"
      ],
      "execution_count": 0,
      "outputs": []
    },
    {
      "metadata": {
        "id": "ZSoVjbpx3X_G",
        "colab_type": "code",
        "colab": {
          "base_uri": "https://localhost:8080/",
          "height": 329
        },
        "outputId": "ddb8e8e3-33dc-4060-854c-c93b60d556a9"
      },
      "cell_type": "code",
      "source": [
        "ar1 = np.arange(10)\n",
        "print(ar1)\n",
        "\n",
        "ar2 = ar1.reshape(2, 5)\n",
        "print(ar2)\n",
        "\n",
        "ar3 = ar2.T\n",
        "print(ar3)\n",
        "\n",
        "arOfAr = ar1.reshape(-1,1)\n",
        "print(arOfAr)"
      ],
      "execution_count": 3,
      "outputs": [
        {
          "output_type": "stream",
          "text": [
            "[0 1 2 3 4 5 6 7 8 9]\n",
            "[[0 1 2 3 4]\n",
            " [5 6 7 8 9]]\n",
            "[[0 5]\n",
            " [1 6]\n",
            " [2 7]\n",
            " [3 8]\n",
            " [4 9]]\n",
            "[[0]\n",
            " [1]\n",
            " [2]\n",
            " [3]\n",
            " [4]\n",
            " [5]\n",
            " [6]\n",
            " [7]\n",
            " [8]\n",
            " [9]]\n"
          ],
          "name": "stdout"
        }
      ]
    },
    {
      "metadata": {
        "id": "cnQNhdE24Qf_",
        "colab_type": "code",
        "colab": {
          "base_uri": "https://localhost:8080/",
          "height": 52
        },
        "outputId": "feed87e9-8481-408b-ed9b-bc60b43e729b"
      },
      "cell_type": "code",
      "source": [
        "#squareme = lambda t: t**2\n",
        "\n",
        "def sq2(x):\n",
        "  return x*x\n",
        "\n",
        "ar4 = np.array([sq2(xi) for xi in ar1])\n",
        "print(ar1)\n",
        "print(ar4)\n",
        "#plt.scatter(ar1, ar4)\n",
        "#plt.show()"
      ],
      "execution_count": 4,
      "outputs": [
        {
          "output_type": "stream",
          "text": [
            "[0 1 2 3 4 5 6 7 8 9]\n",
            "[ 0  1  4  9 16 25 36 49 64 81]\n"
          ],
          "name": "stdout"
        }
      ]
    },
    {
      "metadata": {
        "id": "qr4kiRnN6Zum",
        "colab_type": "code",
        "colab": {
          "base_uri": "https://localhost:8080/",
          "height": 347
        },
        "outputId": "acd95952-f3d6-456b-9e27-e92b3e23bb1a"
      },
      "cell_type": "code",
      "source": [
        "plt.scatter(ar1, ar4)\n",
        "plt.axis('equal')\n",
        "plt.show()\n"
      ],
      "execution_count": 8,
      "outputs": [
        {
          "output_type": "display_data",
          "data": {
            "image/png": "[encoded data removed]",
            "text/plain": [
              "<matplotlib.figure.Figure at 0x7fb2835972e8>"
            ]
          },
          "metadata": {
            "tags": []
          }
        }
      ]
    }
  ]
}