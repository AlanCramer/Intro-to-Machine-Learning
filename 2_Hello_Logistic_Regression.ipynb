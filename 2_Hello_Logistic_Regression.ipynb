{
  "nbformat": 4,
  "nbformat_minor": 0,
  "metadata": {
    "colab": {
      "name": "2 Hello Logistic Regression.ipynb",
      "version": "0.3.2",
      "provenance": [],
      "collapsed_sections": [],
      "include_colab_link": true
    },
    "kernelspec": {
      "name": "python3",
      "display_name": "Python 3"
    }
  },
  "cells": [
    {
      "cell_type": "markdown",
      "metadata": {
        "id": "view-in-github",
        "colab_type": "text"
      },
      "source": [
        "[View in Colaboratory](https://colab.research.google.com/github/AlanCramer/Intro-to-Machine-Learning/blob/master/2_Hello_Logistic_Regression.ipynb)"
      ]
    },
    {
      "metadata": {
        "id": "-UTO3JsjxwVN",
        "colab_type": "code",
        "colab": {}
      },
      "cell_type": "code",
      "source": [
        "import sys\n",
        "import numpy as np\n",
        "import matplotlib.pyplot as plt\n",
        "import sklearn"
      ],
      "execution_count": 0,
      "outputs": []
    },
    {
      "metadata": {
        "id": "PtOuMhhbzw7Y",
        "colab_type": "text"
      },
      "cell_type": "markdown",
      "source": [
        "What happens if our label is not continuous? For example, how does hours of studying impact whether a student passes a test? Or, \n",
        "\n",
        "**How long do students need to use our software to likely meet their lexile growth goals?**\n",
        "\n"
      ]
    },
    {
      "metadata": {
        "id": "cVFd6TwF0Wrq",
        "colab_type": "code",
        "colab": {}
      },
      "cell_type": "code",
      "source": [
        "numStudents = 10\n",
        "students = np.arange(numStudents)\n"
      ],
      "execution_count": 0,
      "outputs": []
    },
    {
      "metadata": {
        "id": "DDIHNDGG1DiS",
        "colab_type": "text"
      },
      "cell_type": "markdown",
      "source": [
        "Let's say that each student studied between 0 and 8 hours.\n",
        "\n",
        "Let's make data to show that if a student studies for 4 hours they have a 50% chance of passing. \n",
        "\n",
        "But then we will add \"noise\" to make it more realistic.\n",
        "\n",
        "That is, we'll set it up so that some students don't even need to study for 4 hours, and they pass. And some students will study for more than 4 hours and still not pass."
      ]
    },
    {
      "metadata": {
        "id": "Et1msjS_1X-n",
        "colab_type": "code",
        "colab": {
          "base_uri": "https://localhost:8080/",
          "height": 52
        },
        "outputId": "26348279-aa4a-40cc-c58b-b1e28d897eb2"
      },
      "cell_type": "code",
      "source": [
        "def hoursStudied(s):\n",
        "  return np.random.uniform(0, 8)\n",
        "\n",
        "studyHours = np.array([hoursStudied(si) for si in students])\n",
        "studyHours"
      ],
      "execution_count": 4,
      "outputs": [
        {
          "output_type": "execute_result",
          "data": {
            "text/plain": [
              "array([5.21663562, 4.30728271, 5.66069332, 5.50566758, 1.68379733,\n",
              "       0.44838707, 0.07464453, 5.91723938, 4.77511978, 7.90107349])"
            ]
          },
          "metadata": {
            "tags": []
          },
          "execution_count": 4
        }
      ]
    },
    {
      "metadata": {
        "id": "HYagThpM3N7l",
        "colab_type": "text"
      },
      "cell_type": "markdown",
      "source": [
        "Now, did they pass or not? Let's use normalized distribution.\n",
        "\n",
        "For each student, we'll select a number which is the hours they needed to study to pass. If they studied more than that they passed."
      ]
    },
    {
      "metadata": {
        "id": "vnD52Mht3wza",
        "colab_type": "code",
        "colab": {
          "base_uri": "https://localhost:8080/",
          "height": 52
        },
        "outputId": "fa57c316-1396-4edc-a7e6-ed14f095296b"
      },
      "cell_type": "code",
      "source": [
        "def hoursNeeded(s):\n",
        "  return np.random.normal(4, 2)\n",
        "\n",
        "needHours = np.array([hoursNeeded(si) for si in students])\n",
        "needHours"
      ],
      "execution_count": 5,
      "outputs": [
        {
          "output_type": "execute_result",
          "data": {
            "text/plain": [
              "array([2.13026101, 3.3234661 , 7.51766791, 0.775435  , 7.01453022,\n",
              "       4.56157606, 3.71930662, 3.93864132, 7.68170187, 2.60008283])"
            ]
          },
          "metadata": {
            "tags": []
          },
          "execution_count": 5
        }
      ]
    },
    {
      "metadata": {
        "id": "Ywv_CXsq4Xp7",
        "colab_type": "code",
        "colab": {
          "base_uri": "https://localhost:8080/",
          "height": 35
        },
        "outputId": "980eed54-1f1b-4d03-b294-c33c253d94a7"
      },
      "cell_type": "code",
      "source": [
        "def studentPassed(sid):\n",
        "  return 1 if studyHours[sid] > needHours[sid] else 0\n",
        "\n",
        "passedTest = np.array([studentPassed(si) for si in students])\n",
        "passedTest"
      ],
      "execution_count": 6,
      "outputs": [
        {
          "output_type": "execute_result",
          "data": {
            "text/plain": [
              "array([1, 1, 0, 1, 0, 0, 0, 1, 0, 1])"
            ]
          },
          "metadata": {
            "tags": []
          },
          "execution_count": 6
        }
      ]
    },
    {
      "metadata": {
        "id": "T1rpIHKC6Oks",
        "colab_type": "text"
      },
      "cell_type": "markdown",
      "source": [
        "Okay, so here's our data:"
      ]
    },
    {
      "metadata": {
        "id": "dTAU4qYS6NbI",
        "colab_type": "code",
        "colab": {
          "base_uri": "https://localhost:8080/",
          "height": 69
        },
        "outputId": "a1c3a786-8303-43b8-f2e5-de68510e8d1f"
      },
      "cell_type": "code",
      "source": [
        "print(studyHours)\n",
        "print(passedTest)"
      ],
      "execution_count": 7,
      "outputs": [
        {
          "output_type": "stream",
          "text": [
            "[5.21663562 4.30728271 5.66069332 5.50566758 1.68379733 0.44838707\n",
            " 0.07464453 5.91723938 4.77511978 7.90107349]\n",
            "[1 1 0 1 0 0 0 1 0 1]\n"
          ],
          "name": "stdout"
        }
      ]
    },
    {
      "metadata": {
        "id": "C5JkJQfi7uyW",
        "colab_type": "text"
      },
      "cell_type": "markdown",
      "source": [
        "With this data, can we predict for a new student, how long they might need to study to pass?"
      ]
    },
    {
      "metadata": {
        "id": "2AuxOe_W73Ck",
        "colab_type": "code",
        "colab": {
          "base_uri": "https://localhost:8080/",
          "height": 87
        },
        "outputId": "9a659232-68c0-419b-e97e-b8f0c2bfdf15"
      },
      "cell_type": "code",
      "source": [
        "from sklearn import linear_model\n",
        "clf = linear_model.LogisticRegression(C=1e8)\n",
        "\n",
        "#print(studyHours)\n",
        "#X = studyHours[:, np.newaxis]\n",
        "X = studyHours.reshape(-1, 1)\n",
        "#print (X)\n",
        "clf.fit(X, passedTest)"
      ],
      "execution_count": 8,
      "outputs": [
        {
          "output_type": "execute_result",
          "data": {
            "text/plain": [
              "LogisticRegression(C=100000000.0, class_weight=None, dual=False,\n",
              "          fit_intercept=True, intercept_scaling=1, max_iter=100,\n",
              "          multi_class='ovr', n_jobs=1, penalty='l2', random_state=None,\n",
              "          solver='liblinear', tol=0.0001, verbose=0, warm_start=False)"
            ]
          },
          "metadata": {
            "tags": []
          },
          "execution_count": 8
        }
      ]
    },
    {
      "metadata": {
        "id": "l3lChhdo9G5Z",
        "colab_type": "code",
        "colab": {
          "base_uri": "https://localhost:8080/",
          "height": 347
        },
        "outputId": "cecd44ad-19f5-49c1-c637-febdfb2b1669"
      },
      "cell_type": "code",
      "source": [
        "plt.scatter(studyHours, passedTest)\n",
        "plt.show()"
      ],
      "execution_count": 9,
      "outputs": [
        {
          "output_type": "display_data",
          "data": {
            "image/png": "[encoded data removed]",
            "text/plain": [
              "<matplotlib.figure.Figure at 0x7f73800baef0>"
            ]
          },
          "metadata": {
            "tags": []
          }
        }
      ]
    },
    {
      "metadata": {
        "id": "uoIViQ5y_Vqk",
        "colab_type": "code",
        "colab": {
          "base_uri": "https://localhost:8080/",
          "height": 347
        },
        "outputId": "1ef3679a-c5ee-4d20-c2a4-d1b2daee7485"
      },
      "cell_type": "code",
      "source": [
        "def model(x):\n",
        "  return 1/(1 + np.exp(-x))\n",
        "\n",
        "X_test = np.linspace(-2, 10, 100)\n",
        "loss = model(X_test * clf.coef_ + clf.intercept_).ravel()\n",
        "plt.plot(X_test, loss, c='r')\n",
        "plt.scatter(studyHours, passedTest)\n",
        "plt.show()"
      ],
      "execution_count": 10,
      "outputs": [
        {
          "output_type": "display_data",
          "data": {
            "image/png": "[encoded data removed]",
            "text/plain": [
              "<matplotlib.figure.Figure at 0x7f73800722b0>"
            ]
          },
          "metadata": {
            "tags": []
          }
        }
      ]
    }
  ]
}